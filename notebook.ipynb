{
 "cells": [
  {
   "cell_type": "markdown",
   "metadata": {},
   "source": [
    "# Lib"
   ]
  },
  {
   "cell_type": "code",
   "execution_count": 1,
   "metadata": {},
   "outputs": [],
   "source": [
    "import torch \n",
    "import torch.nn as nn \n",
    "import torch.optim as optim\n",
    "import matplotlib.pyplot as plt\n",
    "import numpy as np \n",
    "import os \n",
    "import glob\n",
    "import seaborn as sns \n",
    "import pandas as pd\n"
   ]
  },
  {
   "cell_type": "markdown",
   "metadata": {},
   "source": [
    "# Func"
   ]
  },
  {
   "cell_type": "code",
   "execution_count": 3,
   "metadata": {},
   "outputs": [],
   "source": [
    "def check_data(data):\n",
    "    for k,v in data.items():\n",
    "        if isinstance(v,np.ndarray):\n",
    "            print(k,v.shape)\n",
    "        else:\n",
    "            try:\n",
    "                print(k, 'Length: ', len(v))\n",
    "            except:\n",
    "                print(k, v)\n",
    "\n",
    "def load_data(path):\n",
    "    data = np.load(path,allow_pickle=True).item()\n",
    "    return data "
   ]
  },
  {
   "cell_type": "markdown",
   "metadata": {},
   "source": [
    "# Eval"
   ]
  },
  {
   "cell_type": "code",
   "execution_count": 2,
   "metadata": {},
   "outputs": [],
   "source": [
    "def get_eval(data):\n",
    "    res = {}\n",
    "    name = data['eval_name']\n",
    "    n_agent = len(data['first_done']) \n",
    "    res['eval_name'] = name\n",
    "    list_act_fluctation, list_tracking_error, list_path_length, list_cot = [], [], [], []\n",
    "    list_fall_rate = []\n",
    "    for i in range(n_agent):\n",
    "        first_done = data['first_done'][i]\n",
    "        act_fluctation = data['action_fluctation'][i]\n",
    "        tracking_error = data['tracking_error'][i]\n",
    "        cot = data['cost_of_transport'][i]\n",
    "        list_path_length.append(first_done)\n",
    "        list_act_fluctation.append(act_fluctation[0: first_done])\n",
    "        list_tracking_error.append(tracking_error[0: first_done])\n",
    "        list_cot.append(cot[0: first_done])\n",
    "        list_fall_rate.append(data['Fall'][i])\n",
    "    \n",
    "    list_act_fluctation = np.concatenate(list_act_fluctation)\n",
    "    list_tracking_error = np.concatenate(list_tracking_error)\n",
    "    list_path_length = np.array(list_path_length)\n",
    "    #! cot 需要除 mg\n",
    "    list_cot = np.concatenate(list_cot)/ (11 * 9.8)\n",
    "    list_fall_rate = np.array(list_fall_rate)\n",
    "\n",
    "    res['act_fluctation_mean'] = np.mean(list_act_fluctation)\n",
    "    res['act_fluctation_std'] = np.std(list_act_fluctation)\n",
    "    res['tracking_error_mean'] = np.mean(list_tracking_error)\n",
    "    res['tracking_error_std'] = np.std(list_tracking_error)\n",
    "    res['path_length_mean'] = np.mean(list_path_length)\n",
    "    res['path_length_std'] = np.std(list_path_length)\n",
    "    res['cot_mean'] = np.mean(list_cot)\n",
    "    res['cot_std'] = np.std(list_cot)\n",
    "    res['fall_rate'] = np.mean(list_fall_rate)\n",
    "    return res \n",
    "\n",
    "def eval_exp(log_path, name = 'noise_level-1'):\n",
    "    for path in glob.glob(log_path + '/*.npy'):\n",
    "        if name in path:\n",
    "            data = np.load(path,allow_pickle=True).item()\n",
    "            res = get_eval(data)\n",
    "            # return res\n",
    "\n",
    "def save_eval_data(log_path, name ):\n",
    "    list_data = []\n",
    "    for path in glob.glob(log_path + '/*.npy'):\n",
    "        if name in path:\n",
    "            data = np.load(path,allow_pickle=True).item()\n",
    "            res = get_eval(data)\n",
    "            list_data.append(res)\n",
    "    list_res = []\n",
    "    for d in list_data:\n",
    "        r = {}\n",
    "        for key in list(d.keys()):\n",
    "            if '_mean' in key:\n",
    "                raw_key = key.replace('_mean', '')\n",
    "                std_key = key.replace('_mean', '_std')\n",
    "                mean ,std = np.round(d[key],3), np.round(d[std_key],3)\n",
    "                r[raw_key] = f\"{mean:.3f}({std:.3f})\"\n",
    "                del d[std_key]\n",
    "            elif '_std' not in key:\n",
    "                r[key] = f\"{d[key]}\"\n",
    "        list_res.append(r)\n",
    "    # create dataframe\n",
    "    df = pd.DataFrame(list_res).round(4)\n",
    "    # write to csv\n",
    "    df.to_csv(os.path.join(log_path,f'{name}_eval.csv'), index=False)"
   ]
  },
  {
   "cell_type": "code",
   "execution_count": 4,
   "metadata": {},
   "outputs": [
    {
     "name": "stdout",
     "output_type": "stream",
     "text": [
      "1.471 1.019\n",
      "1.471(1.019)\n",
      "0.299 0.41\n",
      "0.299(0.410)\n",
      "656.147 315.165\n",
      "656.147(315.165)\n",
      "3.249 34.503\n",
      "3.249(34.503)\n",
      "2.631 1.77\n",
      "2.631(1.770)\n",
      "0.628 0.411\n",
      "0.628(0.411)\n",
      "297.688 237.265\n",
      "297.688(237.265)\n",
      "4.015 23.524\n",
      "4.015(23.524)\n",
      "1.204 0.701\n",
      "1.204(0.701)\n",
      "0.137 0.237\n",
      "0.137(0.237)\n",
      "762.27 304.969\n",
      "762.270(304.969)\n",
      "0.677 4.305\n",
      "0.677(4.305)\n",
      "1.359 0.714\n",
      "1.359(0.714)\n",
      "0.272 0.385\n",
      "0.272(0.385)\n",
      "882.989 241.758\n",
      "882.989(241.758)\n",
      "4.457 25.378\n",
      "4.457(25.378)\n",
      "1.202 0.658\n",
      "1.202(0.658)\n",
      "0.135 0.213\n",
      "0.135(0.213)\n",
      "886.087 248.464\n",
      "886.087(248.464)\n",
      "0.536 3.652\n",
      "0.536(3.652)\n",
      "1.403 0.567\n",
      "1.403(0.567)\n",
      "0.201 0.272\n",
      "0.201(0.272)\n",
      "912.892 214.656\n",
      "912.892(214.656)\n",
      "0.542 2.44\n",
      "0.542(2.440)\n",
      "1.317 0.673\n",
      "1.317(0.673)\n",
      "0.257 0.378\n",
      "0.257(0.378)\n",
      "935.184 185.346\n",
      "935.184(185.346)\n",
      "1.689 6.714\n",
      "1.689(6.714)\n",
      "1.43 0.636\n",
      "1.430(0.636)\n",
      "0.145 0.212\n",
      "0.145(0.212)\n",
      "889.159 242.081\n",
      "889.159(242.081)\n",
      "0.559 3.556\n",
      "0.559(3.556)\n",
      "1.302 0.695\n",
      "1.302(0.695)\n",
      "0.248 0.366\n",
      "0.248(0.366)\n",
      "774.239 300.377\n",
      "774.239(300.377)\n",
      "3.302 18.235\n",
      "3.302(18.235)\n",
      "1.373 0.74\n",
      "1.373(0.740)\n",
      "0.272 0.383\n",
      "0.272(0.383)\n",
      "860.245 250.694\n",
      "860.245(250.694)\n",
      "2.911 13.142\n",
      "2.911(13.142)\n",
      "1.201 0.653\n",
      "1.201(0.653)\n",
      "0.135 0.214\n",
      "0.135(0.214)\n",
      "883.142 249.983\n",
      "883.142(249.983)\n",
      "0.524 4.033\n",
      "0.524(4.033)\n",
      "1.219 0.609\n",
      "1.219(0.609)\n",
      "0.205 0.331\n",
      "0.205(0.331)\n",
      "595.968 326.382\n",
      "595.968(326.382)\n",
      "1.987 11.704\n",
      "1.987(11.704)\n"
     ]
    }
   ],
   "source": [
    "save_eval_data('logs/Eval', 'noise_level-1')"
   ]
  },
  {
   "cell_type": "code",
   "execution_count": 49,
   "metadata": {},
   "outputs": [],
   "source": [
    "save_eval_data('logs/Eval_Push', 'push_level:5')"
   ]
  },
  {
   "cell_type": "code",
   "execution_count": 11,
   "metadata": {},
   "outputs": [],
   "source": [
    "data = load_data(\"logs/Eval2/Expert-MLP-noise_type-uniform-noise_level-3-debug.npy\")"
   ]
  },
  {
   "cell_type": "code",
   "execution_count": 12,
   "metadata": {},
   "outputs": [
    {
     "name": "stdout",
     "output_type": "stream",
     "text": [
      "done (100, 1011)\n",
      "action_fluctation (100, 1011)\n",
      "tracking_error (100, 1011)\n",
      "cost_of_transport (100, 1011)\n",
      "base_vel (100, 1011, 3)\n",
      "contact_force_z (100, 1011, 4)\n",
      "base_vel_roll (100, 1011)\n",
      "base_vel_pitch (100, 1011)\n",
      "base_vel_yaw (100, 1011)\n",
      "first_done (100,)\n",
      "Fall (100,)\n",
      "noise_level 3\n",
      "noise_type Length:  7\n"
     ]
    }
   ],
   "source": [
    "check_data(data)"
   ]
  },
  {
   "cell_type": "code",
   "execution_count": 14,
   "metadata": {},
   "outputs": [
    {
     "name": "stdout",
     "output_type": "stream",
     "text": [
      "0.08962187\n"
     ]
    }
   ],
   "source": [
    "print(np.mean(data['tracking_error']))"
   ]
  },
  {
   "cell_type": "code",
   "execution_count": null,
   "metadata": {},
   "outputs": [],
   "source": []
  }
 ],
 "metadata": {
  "kernelspec": {
   "display_name": "terrain",
   "language": "python",
   "name": "python3"
  },
  "language_info": {
   "codemirror_mode": {
    "name": "ipython",
    "version": 3
   },
   "file_extension": ".py",
   "mimetype": "text/x-python",
   "name": "python",
   "nbconvert_exporter": "python",
   "pygments_lexer": "ipython3",
   "version": "3.8.16"
  }
 },
 "nbformat": 4,
 "nbformat_minor": 2
}
